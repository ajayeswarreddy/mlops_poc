{
 "cells": [
  {
   "cell_type": "code",
   "execution_count": 1,
   "metadata": {},
   "outputs": [],
   "source": [
    "import pandas as pd\n",
    "from sklearn.model_selection import train_test_split\n",
    "from sklearn.preprocessing import LabelEncoder, StandardScaler      \n",
    "\n",
    "from sklearn.linear_model import LogisticRegression"
   ]
  },
  {
   "cell_type": "code",
   "execution_count": 2,
   "metadata": {},
   "outputs": [],
   "source": [
    "df_historical = pd.read_csv('../../data/credit_card_historical_data.csv')\n",
    "df_production = pd.read_csv('../../data/credit_card_production_data.csv')"
   ]
  },
  {
   "cell_type": "code",
   "execution_count": 3,
   "metadata": {},
   "outputs": [
    {
     "name": "stderr",
     "output_type": "stream",
     "text": [
      "None of PyTorch, TensorFlow >= 2.0, or Flax have been found. Models won't be available and only tokenizers, configuration and file/data utilities can be used.\n"
     ]
    }
   ],
   "source": [
    "import alibi_detect\n",
    "from alibi_detect.cd import KSDrift"
   ]
  },
  {
   "cell_type": "code",
   "execution_count": 4,
   "metadata": {},
   "outputs": [
    {
     "name": "stderr",
     "output_type": "stream",
     "text": [
      "/var/folders/38/djv715md7dz__89srf2wkcsh0000gn/T/ipykernel_8271/2814568062.py:3: SettingWithCopyWarning: \n",
      "A value is trying to be set on a copy of a slice from a DataFrame.\n",
      "Try using .loc[row_indexer,col_indexer] = value instead\n",
      "\n",
      "See the caveats in the documentation: https://pandas.pydata.org/pandas-docs/stable/user_guide/indexing.html#returning-a-view-versus-a-copy\n",
      "  x_hist['type_encoded'] = le.fit_transform(x_hist['type'])\n"
     ]
    }
   ],
   "source": [
    "x_hist = df_historical[['type','amount','oldbalanceOrg','newbalanceOrig','oldbalanceDest','newbalanceDest']]\n",
    "le = LabelEncoder()\n",
    "x_hist['type_encoded'] = le.fit_transform(x_hist['type'])\n",
    "x_hist = x_hist.drop(['type'],axis=1)\n",
    "y_hist = df_historical[\"isFraud\"].values\n",
    "x_train, x_test, y_train, y_test = train_test_split(\n",
    "    x_hist, y_hist, stratify=y_hist, random_state=42, test_size=0.1, shuffle=True\n",
    "    )\n"
   ]
  },
  {
   "cell_type": "code",
   "execution_count": 5,
   "metadata": {},
   "outputs": [
    {
     "name": "stderr",
     "output_type": "stream",
     "text": [
      "/var/folders/38/djv715md7dz__89srf2wkcsh0000gn/T/ipykernel_8271/2778788411.py:4: SettingWithCopyWarning: \n",
      "A value is trying to be set on a copy of a slice from a DataFrame.\n",
      "Try using .loc[row_indexer,col_indexer] = value instead\n",
      "\n",
      "See the caveats in the documentation: https://pandas.pydata.org/pandas-docs/stable/user_guide/indexing.html#returning-a-view-versus-a-copy\n",
      "  x_prod['type_encoded'] = le.fit_transform(x_prod['type'])\n"
     ]
    }
   ],
   "source": [
    "x_prod = df_production[['type','amount','oldbalanceOrg','newbalanceOrig','oldbalanceDest','newbalanceDest']]\n",
    "\n",
    "le = LabelEncoder()\n",
    "x_prod['type_encoded'] = le.fit_transform(x_prod['type'])\n",
    "x_prod = x_prod.drop(['type'],axis=1)\n",
    "y_prod = df_historical[\"isFraud\"].values"
   ]
  },
  {
   "attachments": {},
   "cell_type": "markdown",
   "metadata": {},
   "source": [
    "# 1)drift detection"
   ]
  },
  {
   "cell_type": "code",
   "execution_count": 6,
   "metadata": {},
   "outputs": [
    {
     "data": {
      "text/plain": [
       "{'data': {'is_drift': 0,\n",
       "  'distance': array([0.00665324, 0.01226359, 0.00306305, 0.00982665, 0.00659862,\n",
       "         0.00038482], dtype=float32),\n",
       "  'p_val': array([0.60047305, 0.03739758, 0.99963665, 0.15512381, 0.61098796,\n",
       "         1.        ], dtype=float32),\n",
       "  'threshold': 0.008333333333333333},\n",
       " 'meta': {'name': 'KSDrift',\n",
       "  'online': False,\n",
       "  'data_type': None,\n",
       "  'version': '0.11.2',\n",
       "  'detector_type': 'drift'}}"
      ]
     },
     "execution_count": 6,
     "metadata": {},
     "output_type": "execute_result"
    }
   ],
   "source": [
    "cd = KSDrift(x_hist.to_numpy(), p_val=0.05)\n",
    "preds = cd.predict(x_prod.to_numpy(), drift_type='batch', return_p_val=True, return_distance=True)\n",
    "preds"
   ]
  },
  {
   "cell_type": "code",
   "execution_count": null,
   "metadata": {},
   "outputs": [],
   "source": []
  },
  {
   "attachments": {},
   "cell_type": "markdown",
   "metadata": {},
   "source": [
    "# 2) outliers detection"
   ]
  },
  {
   "cell_type": "code",
   "execution_count": 7,
   "metadata": {},
   "outputs": [],
   "source": [
    "from alibi_detect.od import IForest"
   ]
  },
  {
   "cell_type": "code",
   "execution_count": 8,
   "metadata": {},
   "outputs": [],
   "source": [
    "od = IForest(\n",
    "    threshold=0.,\n",
    "    n_estimators=100\n",
    ")\n",
    "\n",
    "od.fit(x_train)\n",
    "od.infer_threshold(x_hist,threshold_perc=95)"
   ]
  },
  {
   "cell_type": "code",
   "execution_count": 10,
   "metadata": {},
   "outputs": [
    {
     "data": {
      "text/plain": [
       "{'data': {'instance_score': array([-0.00912618, -0.17338737, -0.07898043, ..., -0.17209841,\n",
       "         -0.17090177, -0.16529519]),\n",
       "  'feature_score': None,\n",
       "  'is_outlier': array([0, 0, 0, ..., 0, 0, 0])},\n",
       " 'meta': {'name': 'IForest',\n",
       "  'online': False,\n",
       "  'data_type': 'tabular',\n",
       "  'version': '0.11.2',\n",
       "  'detector_type': 'outlier'}}"
      ]
     },
     "execution_count": 10,
     "metadata": {},
     "output_type": "execute_result"
    }
   ],
   "source": [
    "preds = od.predict(x_hist,return_instance_score=True)\n",
    "preds"
   ]
  },
  {
   "cell_type": "code",
   "execution_count": 21,
   "metadata": {},
   "outputs": [
    {
     "data": {
      "text/plain": [
       "([13, 14, 51], 2631)"
      ]
     },
     "execution_count": 21,
     "metadata": {},
     "output_type": "execute_result"
    }
   ],
   "source": [
    "outliers_indices = [idx for idx,x in enumerate(preds['data']['is_outlier']) if x==1]\n",
    "outliers_indices[:3], len(outliers_indices)"
   ]
  },
  {
   "cell_type": "code",
   "execution_count": null,
   "metadata": {},
   "outputs": [],
   "source": []
  },
  {
   "attachments": {},
   "cell_type": "markdown",
   "metadata": {},
   "source": [
    "# 3) Adversial detection"
   ]
  },
  {
   "cell_type": "code",
   "execution_count": null,
   "metadata": {},
   "outputs": [],
   "source": []
  }
 ],
 "metadata": {
  "kernelspec": {
   "display_name": "mlops",
   "language": "python",
   "name": "python3"
  },
  "language_info": {
   "codemirror_mode": {
    "name": "ipython",
    "version": 3
   },
   "file_extension": ".py",
   "mimetype": "text/x-python",
   "name": "python",
   "nbconvert_exporter": "python",
   "pygments_lexer": "ipython3",
   "version": "3.10.9"
  },
  "orig_nbformat": 4
 },
 "nbformat": 4,
 "nbformat_minor": 2
}
